{
 "cells": [
  {
   "cell_type": "code",
   "execution_count": 5,
   "id": "a2c660f6",
   "metadata": {},
   "outputs": [
    {
     "name": "stdout",
     "output_type": "stream",
     "text": [
      "Please enter any number:10003\n",
      "The last digit of the number 10003 is 3\n"
     ]
    }
   ],
   "source": [
    "# WAP to display the last digit of a number. (Don't use indexing for this)\n",
    "\n",
    "n = int(input(\"Please enter any number:\"))\n",
    "last_digit = n%10\n",
    "print(\"The last digit of the number\",n,\"is\",last_digit)\n"
   ]
  },
  {
   "cell_type": "code",
   "execution_count": null,
   "id": "6f3b842d",
   "metadata": {},
   "outputs": [],
   "source": [
    "#WAP to check if a single character is a vowel or not.\n",
    "\n",
    "ch = str(input(\"Please enter any character:\"))\n",
    "if(ch == 'a' or ch == 'A' or  ch == 'e' or ch == 'E' or ch == 'i' or ch == 'I' or    ch == 'o' or ch == 'O' or ch == 'u' or ch == 'U'):\n",
    "    print(\"The character enter is\",ch,\"is a vowel\")\n",
    "else:\n",
    "    print(\"The character enter is\",ch,\"is not a vowel\")\n",
    "    \n",
    "        \n",
    "\n",
    "\n"
   ]
  },
  {
   "cell_type": "code",
   "execution_count": null,
   "id": "73e79ae9",
   "metadata": {},
   "outputs": [],
   "source": [
    "# WAP to check if a number is even or odd where number is taken as input.\n",
    "\n",
    "n = int(input(\"Please enter any number:\"))\n",
    "calc = n%2\n",
    "if calc == 0:\n",
    "    print(\"Entered number\",n,\"is Even Number\")\n",
    "else:\n",
    "    print(\"Entered number\",n,\"is Odd Number\")\n",
    "\n"
   ]
  },
  {
   "cell_type": "code",
   "execution_count": null,
   "id": "ad4af616",
   "metadata": {},
   "outputs": [],
   "source": [
    "# WAP to check if 3rd last character of a string is a vowel or not.\n",
    "\n",
    "UserInput = str(input(\"Please enter any string:\"))\n",
    "ch = UserInput[2]\n",
    "\n",
    "if(ch == 'a' or ch == 'A' or  ch == 'e' or ch == 'E' or ch == 'i' or ch == 'I' or    ch == 'o' or ch == 'O' or ch == 'u' or ch == 'U'):\n",
    "    print(\"The enter string is\",UserInput,\" and 3rd character is a vowel\")\n",
    "else:\n",
    "    print(\"The enter string is\",UserInput,\" and 3rd character is not vowel\")\n",
    "\n"
   ]
  },
  {
   "cell_type": "code",
   "execution_count": null,
   "id": "b371909a",
   "metadata": {},
   "outputs": [],
   "source": [
    "# WAP Check if the first and last number of a list is the same.\n",
    "\n",
    "n = int(input(\"Please enter any number:\"))\n",
    "first_digit = str(n)[0]\n",
    "print (\"The first digit of the number\",n,\"is\",first_digit)\n",
    "#last_digit = n%10\n",
    "last_digit = str(n)[-1]\n",
    "print(\"The last digit of the number\",n,\"is\",last_digit)\n",
    "if (first_digit == last_digit):\n",
    "    print (\"The first digit of the number is equal to last digit\")\n",
    "else:\n",
    "    print (\"The first digit of the number is not equal to last digit\")\n"
   ]
  },
  {
   "cell_type": "code",
   "execution_count": null,
   "id": "3a0acdb3",
   "metadata": {},
   "outputs": [],
   "source": [
    "#WAP to Calculate income tax for the input income by adhering to the Indian rules.\n",
    "\n",
    "#AMOUNT                             INCOME TAX RATE\n",
    "#Up to ₹2,50,000                     0%\n",
    "#₹2,50,001 – ₹5,00,000           5% above ₹2,50,000\n",
    "#₹5,00,001 – ₹7,50,000           10% above ₹5,00,000 + ₹12,500\n",
    "#₹7,50,001 – ₹10,00,000         15% above ₹7,50,000 + ₹37,500\n",
    "#₹10,00,001 – ₹12,50,000       20% above ₹10,00,000 + ₹75,000\n",
    "#₹12,50,001 – ₹15,00,000       25% above ₹12,50,000 + ₹1,25,000\n",
    "#Above ₹15,00,001                  30% above ₹15,00,000 + ₹1,87,500\n",
    "\n",
    "\n",
    "Total_Income = float(input(\"Enter the Income:\"))\n",
    "\n",
    "if Total_Income < 250000:\n",
    "    Income_tax = 0\n",
    "elif Total_Income > 250001 and Total_Income <= 500000:\n",
    "    Income_tax = (Total_Income * 5)/100 \n",
    "elif Total_Income > 500001 and Total_Income <= 750000:\n",
    "    Income_tax = (Total_Income * 10)/100 + 12500\n",
    "elif Total_Income > 750001 and Total_Income <= 1000000:\n",
    "    Income_tax = (Total_Income * 15)/100 + 37500\n",
    "elif Total_Income > Total_Income and Total_Income <= 1250000 :\n",
    "    Income_tax = (Total_Income * 20)/100 + 75000\n",
    "elif Total_Income > 1250001 and Total_Income <= 1500000 :\n",
    "    Income_tax = (Total_Income * 25)/100 + 125000\n",
    "else:\n",
    "    Income_tax = (Total_Income * 30)/100 + 187500\n",
    "\n",
    "print(\"Total Tax Applicable at\",Total_Income,\"is :-> Rs\",Income_tax)\n",
    "    \n",
    "\n"
   ]
  },
  {
   "cell_type": "code",
   "execution_count": null,
   "id": "d711e61d",
   "metadata": {},
   "outputs": [],
   "source": [
    "# WPA Write a Python program to check whether a string starts \n",
    "# with vowel or not.\n",
    "\n",
    "UserInput = str(input(\"Please enter a string:\"))\n",
    "ch = UserInput[0]\n",
    "if(ch == 'a' or ch == 'A' or  ch == 'e' or ch == 'E' or ch == 'i' or ch == 'I' or    ch == 'o' or ch == 'O' or ch == 'u' or ch == 'U'):\n",
    "    print(\"The string entered is\",UserInput,\" and starts with vowel\")\n",
    "else:\n",
    "    print(\"The string entered is\",UserInput,\" and do not starts with vowel\")\n"
   ]
  },
  {
   "cell_type": "code",
   "execution_count": null,
   "id": "8c8264af",
   "metadata": {},
   "outputs": [],
   "source": [
    "## WAP to calculate percentage of a student through 5 subjects. Take marks as input from the user.\n",
    "## Using percentage print which grade the student has scored.\n",
    "\n",
    "\"\"\"\n",
    "Average Mark\tGrade\n",
    "91-100\tA1\n",
    "81-90\tA2\n",
    "71-80\tB1\n",
    "61-70\tB2\n",
    "51-60\tC1\n",
    "41-50\tC2\n",
    "33-40\tD\n",
    "21-32\tE1\n",
    "0-20\tE2\n",
    "\"\"\"\n",
    "\n",
    "Maths = int(input(\"Please enter marks of Maths:\"))\n",
    "Science = int(input(\"Please enter marks of Science:\"))\n",
    "English = int(input(\"Please enter marks of English:\"))\n",
    "Social_Science = int(input(\"Please enter marks of Social_Science:\"))\n",
    "Hindi = int(input(\"Please enter marks of Hindi:\"))\n",
    "\n",
    "Total = (Maths+Science+English+Social_Science+Hindi)\n",
    "Percentage = (Total/500)*100\n",
    "\n",
    "print(\"The Perentage is\",Percentage)\n",
    "\n",
    "if Percentage >= 91 and Percentage <=100:\n",
    "    Grade = 'A1'\n",
    "elif Percentage >= 81 and Percentage <=90:\n",
    "    Grade = 'A2'\n",
    "elif Percentage >= 71 and Percentage <=80:\n",
    "    Grade = 'B1'\n",
    "elif Percentage >= 61 and Percentage <=70:\n",
    "    Grade = 'B2'\n",
    "elif Percentage >= 51 and Percentage <=60:\n",
    "    Grade = 'C1'\n",
    "elif Percentage >= 41 and Percentage <=50:\n",
    "    Grade = 'C2'\n",
    "elif Percentage >= 33 and Percentage <=40:\n",
    "    Grade = 'D'\n",
    "elif Percentage >= 21 and Percentage <=32:\n",
    "    Grade = 'E2'\n",
    "elif Percentage >= 0 and Percentage <=20:\n",
    "    Grade = 'E1'\n",
    "else:\n",
    "    print(\"Invalid Input\")\n",
    "\n",
    "print(\"Grade is\",Grade)\n",
    "    \n",
    "    \n",
    "\n"
   ]
  },
  {
   "cell_type": "code",
   "execution_count": null,
   "id": "96f3975f",
   "metadata": {},
   "outputs": [],
   "source": [
    "#Convert Celsius to Fahrenheit using Python\n",
    "\n",
    "TempinC = int(input(\"Enter the Temperature in Celsius:\"))\n",
    "Fahrenheit = (TempinC*1.8)+32\n",
    "print('%.2f TempinC is equivalent to: %.2f Fahrenheit'\n",
    "      % (TempinC, Fahrenheit))\n"
   ]
  },
  {
   "cell_type": "code",
   "execution_count": null,
   "id": "838d22d5",
   "metadata": {},
   "outputs": [],
   "source": [
    "#WAP to calculate the surface area of a triangle.\n",
    "\n",
    "a = int(input(\"Please enter the lenghth of side1:\"))\n",
    "b = int(input(\"Please enter the lenghth of side2:\"))\n",
    "c = int(input(\"Please enter the lenghth of side3:\"))\n",
    "\n",
    "s = (a + b + c) / 2\n",
    "area = (s * (s - a) * (s - b) * (s - c)) ** 0.5\n",
    "print('Area of the triange',area)\n",
    "#print(f\"Area = {area_triangle(a, b, c):.2f}\")\n",
    "\n"
   ]
  },
  {
   "cell_type": "code",
   "execution_count": 1,
   "id": "ae59a70b",
   "metadata": {},
   "outputs": [
    {
     "name": "stdout",
     "output_type": "stream",
     "text": [
      "Enter the day of week (Please enter between 1-7):1\n",
      "Day of the week is: Monday\n"
     ]
    }
   ],
   "source": [
    "#WAP to print the day based on the number input. For example: if input = 1, output = Monday\n",
    "\n",
    "userinput = int(input(\"Enter the day of week (Please enter between 1-7):\"))\n",
    "\n",
    "if userinput == 1:\n",
    "    DayofWeek = 'Monday'\n",
    "elif userinput == 2:\n",
    "    DayofWeek = 'Tuesday'\n",
    "elif userinput == 3:\n",
    "    DayofWeek = 'Wednesday'\n",
    "elif userinput == 4:\n",
    "    DayofWeek = 'Thursday'\n",
    "elif userinput == 5:\n",
    "    DayofWeek = 'Friday'\n",
    "elif userinput == 6:\n",
    "    DayofWeek = 'Saturday'\n",
    "elif userinput == 7:\n",
    "    DayofWeek = 'Sunday'\n",
    "else:\n",
    "    print(\"Invalid Input\")\n",
    "\n",
    "print(\"Day of the week is:\",DayofWeek)"
   ]
  },
  {
   "cell_type": "code",
   "execution_count": 3,
   "id": "c8c32712",
   "metadata": {},
   "outputs": [
    {
     "name": "stdout",
     "output_type": "stream",
     "text": [
      "Enter the voter age:16\n",
      "Candidate is not eligible for voting\n"
     ]
    }
   ],
   "source": [
    "# WAP to check whether a person is eligible to vote or not based on their age.\n",
    "\n",
    "userinput = int(input(\"Enter the voter age:\"))\n",
    "\n",
    "if (userinput >= 18):\n",
    "    print(\"Candidate is eligible for voting\")\n",
    "else:\n",
    "    print(\"Candidate is not eligible for voting\")\n",
    " \n"
   ]
  },
  {
   "cell_type": "code",
   "execution_count": 13,
   "id": "9c4dd172",
   "metadata": {},
   "outputs": [
    {
     "name": "stdout",
     "output_type": "stream",
     "text": [
      "Enter a string:Dil Se\n",
      "The number of elements in String with space is: 6\n",
      "The number of elements in String without space is: 5\n"
     ]
    }
   ],
   "source": [
    "#WAP to calculate the count of elements in a string.\n",
    "\n",
    "userinput = str(input(\"Enter a string:\"))\n",
    "Loopcounter = 0\n",
    "count = 0\n",
    "\n",
    "for i in userinput:\n",
    "    Loopcounter +=1\n",
    "    if (i != ' '):\n",
    "        count = count + 1\n",
    "print(\"The number of elements in String with space is:\",Loopcounter)\n",
    "print(\"The number of elements in String without space is:\",count)\n"
   ]
  },
  {
   "cell_type": "code",
   "execution_count": 7,
   "id": "dcefc829",
   "metadata": {},
   "outputs": [
    {
     "name": "stdout",
     "output_type": "stream",
     "text": [
      "Please enter the lenghth of side1:10\n",
      "Please enter the lenghth of side2:10\n",
      "Please enter the lenghth of side3:10\n",
      "Triangle is equilateral triangle\n"
     ]
    }
   ],
   "source": [
    "\n",
    "a = int(input(\"Please enter the lenghth of side1:\"))\n",
    "b = int(input(\"Please enter the lenghth of side2:\"))\n",
    "c = int(input(\"Please enter the lenghth of side3:\"))\n",
    "\n",
    "if (a==b) and (b==c):\n",
    "    print(\"Triangle is equilateral triangle\")\n",
    "else:\n",
    "    print(\"Triangle is not an equilateral triangle\")\n",
    "    \n",
    "\n"
   ]
  },
  {
   "cell_type": "code",
   "execution_count": null,
   "id": "480714ad",
   "metadata": {},
   "outputs": [],
   "source": []
  }
 ],
 "metadata": {
  "kernelspec": {
   "display_name": "Python 3 (ipykernel)",
   "language": "python",
   "name": "python3"
  },
  "language_info": {
   "codemirror_mode": {
    "name": "ipython",
    "version": 3
   },
   "file_extension": ".py",
   "mimetype": "text/x-python",
   "name": "python",
   "nbconvert_exporter": "python",
   "pygments_lexer": "ipython3",
   "version": "3.10.4"
  }
 },
 "nbformat": 4,
 "nbformat_minor": 5
}
